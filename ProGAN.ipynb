{
 "cells": [
  {
   "cell_type": "markdown",
   "id": "606d9c32",
   "metadata": {},
   "source": [
    "# ProGAN: Progressive growing of Generative Adversarial Networks"
   ]
  },
  {
   "cell_type": "markdown",
   "id": "4962dc8b",
   "metadata": {},
   "source": [
    "There are many problems with training GANs. The most important of which is the training instability.\n",
    "\n",
    "Sometimes, the loss of the GAN can oscillate, as the generator and discriminator undo the learning of the other. Other times, your loss may explode right after the networks converge, and the images start looking horrible.\n",
    "\n",
    "ProGAN (which stands for the \"progressive growing of generative adversarial networks\") is a **technique that helps stabilize GAN training by incrementally increasing the resolution of the generated image**.\n",
    "\n",
    "The intuition here is that it’s easier to generate a $4\\times4$ image than it is to generate a $1024\\times1024$ image. Also, it’s easier to map a $16\\times16$ image to a $32\\times32$ image than it is to map a $2\\times2$ image to a $32\\times32$ image.\n",
    "\n",
    "So ProGAN first trains a $4\\times4$ generator and a $4\\times4$ discriminator and adds layers that correspond to higher resolutions later in the training process. "
   ]
  },
  {
   "cell_type": "code",
   "execution_count": null,
   "id": "d0222934",
   "metadata": {},
   "outputs": [],
   "source": []
  }
 ],
 "metadata": {
  "kernelspec": {
   "display_name": "Python 3 (ipykernel)",
   "language": "python",
   "name": "python3"
  },
  "language_info": {
   "codemirror_mode": {
    "name": "ipython",
    "version": 3
   },
   "file_extension": ".py",
   "mimetype": "text/x-python",
   "name": "python",
   "nbconvert_exporter": "python",
   "pygments_lexer": "ipython3",
   "version": "3.10.9"
  }
 },
 "nbformat": 4,
 "nbformat_minor": 5
}
